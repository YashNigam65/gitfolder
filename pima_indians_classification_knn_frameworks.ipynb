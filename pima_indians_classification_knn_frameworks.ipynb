{
  "nbformat": 4,
  "nbformat_minor": 0,
  "metadata": {
    "colab": {
      "provenance": [],
      "name": "pima_indians_classification_knn_frameworks.ipynb",
      "authorship_tag": "ABX9TyMY+VGjvaI6f2K/AmqWjaqt",
      "include_colab_link": true
    },
    "kernelspec": {
      "name": "python3",
      "display_name": "Python 3"
    },
    "language_info": {
      "name": "python"
    }
  },
  "cells": [
    {
      "cell_type": "markdown",
      "metadata": {
        "id": "view-in-github",
        "colab_type": "text"
      },
      "source": [
        "<a href=\"https://colab.research.google.com/github/YashNigam65/gitfolder/blob/master/pima_indians_classification_knn_frameworks.ipynb\" target=\"_parent\"><img src=\"https://colab.research.google.com/assets/colab-badge.svg\" alt=\"Open In Colab\"/></a>"
      ]
    },
    {
      "cell_type": "code",
      "execution_count": null,
      "metadata": {
        "id": "XSXt4ldTmnOK"
      },
      "outputs": [],
      "source": [
        "# KNN Classification\n",
        "\n",
        "# step 1: import the required modules\n",
        "from pandas import read_csv\n",
        "from sklearn.model_selection import KFold\n",
        "from sklearn.model_selection import cross_val_score\n",
        "from sklearn.linear_model import LogisticRegression\n",
        "from sklearn import preprocessing\n",
        "from sklearn.neighbors import KNeighborsClassifier"
      ]
    },
    {
      "cell_type": "code",
      "source": [
        "# step 2: read the data from the csv file\n",
        "filename = '../../datasets/pima-indians_classification_train.csv'\n",
        "names = ['preg', 'plas', 'pres', 'skin', 'test', 'mass', 'pedi', 'age', 'class']\n",
        "df = read_csv(filename, names=names)\n",
        "print(df)\n",
        "# step 3: split in to input and output\n",
        "array = df.values\n",
        "inputx = array[:,0:8]\n",
        "outputy = array[:,8]"
      ],
      "metadata": {
        "id": "GLypyRNxJPnR"
      },
      "execution_count": null,
      "outputs": []
    },
    {
      "cell_type": "code",
      "source": [
        "# step 4: select the model\n",
        "model = KNeighborsClassifier()\n",
        "print(\"\\nThe model selected is\",model)\n",
        "\n",
        "# step 5: train or build the model\n",
        "model.fit(inputx,outputy)"
      ],
      "metadata": {
        "id": "wepyiTTVJSrG"
      },
      "execution_count": null,
      "outputs": []
    },
    {
      "cell_type": "code",
      "source": [
        "# step 6: do testing or model prediction\n",
        "filename = '../../datasets/pima-indians_classification_test.csv'\n",
        "names = ['preg', 'plas', 'pres', 'skin', 'test', 'mass', 'pedi', 'age']\n",
        "newdataframe = read_csv(filename, names=names)\n",
        "array = newdataframe.values\n",
        "z = array[:,0:8]\n",
        "print(\"\\n\",newdataframe,\"\\n\")\n",
        "res=model.predict(z)"
      ],
      "metadata": {
        "id": "KrzRPvziJViP"
      },
      "execution_count": null,
      "outputs": []
    },
    {
      "cell_type": "code",
      "source": [
        "# step 7: visualize the test results\n",
        "for val in res:\n",
        "    if val==0:\n",
        "        print(\"diabetes not probable\",end=\" \")\n",
        "    elif val == 1:\n",
        "        print(\"diabetes is probable\",end=\" \")\n",
        "    print(end=\" \")\n",
        "print(\"\\n\\n\")"
      ],
      "metadata": {
        "id": "FYljI3zzJXQ3"
      },
      "execution_count": null,
      "outputs": []
    }
  ]
}