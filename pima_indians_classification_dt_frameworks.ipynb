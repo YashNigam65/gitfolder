{
  "nbformat": 4,
  "nbformat_minor": 0,
  "metadata": {
    "colab": {
      "provenance": [],
      "name": "pima_indians_classification_dt_frameworks.ipynb",
      "authorship_tag": "ABX9TyPL7EYwYqQJNHy3XPSKOM4E",
      "include_colab_link": true
    },
    "kernelspec": {
      "name": "python3",
      "display_name": "Python 3"
    },
    "language_info": {
      "name": "python"
    }
  },
  "cells": [
    {
      "cell_type": "markdown",
      "metadata": {
        "id": "view-in-github",
        "colab_type": "text"
      },
      "source": [
        "<a href=\"https://colab.research.google.com/github/YashNigam65/gitfolder/blob/master/pima_indians_classification_dt_frameworks.ipynb\" target=\"_parent\"><img src=\"https://colab.research.google.com/assets/colab-badge.svg\" alt=\"Open In Colab\"/></a>"
      ]
    },
    {
      "cell_type": "code",
      "execution_count": null,
      "metadata": {
        "id": "XSXt4ldTmnOK"
      },
      "outputs": [],
      "source": [
        "# KNN Classification\n",
        "from pandas import read_csv\n",
        "from sklearn.model_selection import KFold\n",
        "from sklearn.model_selection import cross_val_score\n",
        "from sklearn.neighbors import KNeighborsClassifier\n",
        "from sklearn import tree"
      ]
    },
    {
      "cell_type": "code",
      "source": [
        "filename = './datasets/pima-indians_classification_train.csv'\n",
        "names = ['preg', 'plas', 'pres', 'skin', 'test', 'mass', 'pedi', 'age', 'class']\n",
        "dataframe = read_csv(filename, names=names)\n",
        "array = dataframe.values\n",
        "inputx = array[:,0:8]\n",
        "outputy = array[:,8]\n",
        "num_folds = 10\n",
        "kfold = KFold(n_splits=10, random_state=None)\n",
        "model = tree.DecisionTreeClassifier()\n",
        "results = cross_val_score(model, inputx, outputy, cv=kfold)\n",
        "print(results.mean())\n",
        "model.fit(inputx,outputy)"
      ],
      "metadata": {
        "id": "YTnp-7txIb7w"
      },
      "execution_count": null,
      "outputs": []
    },
    {
      "cell_type": "code",
      "source": [
        "filename = '../../datasets/pima-indians_classification_test.csv'\n",
        "names = ['preg', 'plas', 'pres', 'skin', 'test', 'mass', 'pedi', 'age']\n",
        "newdataframe = read_csv(filename, names=names)\n",
        "array = newdataframe.values\n",
        "inputx = array[:,0:8]\n",
        "print(inputx)\n",
        "results = model.predict(inputx)\n",
        "print(model.predict(inputx))\n",
        "for val in results:\n",
        "    if val == 0:\n",
        "        print(\"diabetes not probable\",end=\"   \")\n",
        "    else:\n",
        "        print(\"probability of getting diabetes\",end=\"   \")\n",
        "print()"
      ],
      "metadata": {
        "id": "cnQd-0edIhl3"
      },
      "execution_count": null,
      "outputs": []
    }
  ]
}