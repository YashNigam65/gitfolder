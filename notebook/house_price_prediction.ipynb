{
  "nbformat": 4,
  "nbformat_minor": 0,
  "metadata": {
    "colab": {
      "provenance": [],
      "authorship_tag": "ABX9TyPCGNdwa+1ikAuBzpl23Doy",
      "include_colab_link": true
    },
    "kernelspec": {
      "name": "python3",
      "display_name": "Python 3"
    },
    "language_info": {
      "name": "python"
    }
  },
  "cells": [
    {
      "cell_type": "markdown",
      "metadata": {
        "id": "view-in-github",
        "colab_type": "text"
      },
      "source": [
        "<a href=\"https://colab.research.google.com/github/YashNigam65/gitfolder/blob/master/house_price_prediction.ipynb\" target=\"_parent\"><img src=\"https://colab.research.google.com/assets/colab-badge.svg\" alt=\"Open In Colab\"/></a>"
      ]
    },
    {
      "cell_type": "code",
      "source": [
        "# python implementation of multivariate linear Regression on using house price prediction dataset\n",
        "\n",
        "# step 1: import the libraries\n",
        "import numpy as np\n",
        "import matplotlib.pyplot as plt\n",
        "import pandas as pd\n",
        "from sklearn.model_selection import train_test_split\n",
        "from sklearn.linear_model import LinearRegression\n",
        "from sklearn.metrics import mean_squared_error\n",
        "\n"
      ],
      "metadata": {
        "id": "8p05aIB2FxDA"
      },
      "execution_count": 4,
      "outputs": []
    },
    {
      "cell_type": "code",
      "source": [
        "# step 2: reading the data and splitting it to input and output\n",
        "dataset = pd.read_csv('https://raw.githubusercontent.com/enuguru/aiandml/refs/heads/master/machine_learning_algorithms_using_frameworks/python_files/regression/house_price_prediction/home.csv')\n",
        "#inputx = dataset.iloc[:, :-1].values\n",
        "inputx = dataset.iloc[:, 0:2].values\n",
        "outputy = dataset.iloc[:, 2].values\n",
        "print(outputy)\n",
        "\n"
      ],
      "metadata": {
        "colab": {
          "base_uri": "https://localhost:8080/"
        },
        "id": "z_Lyu5Z5F28V",
        "outputId": "fe995db8-379e-44cd-d0fc-fe126c0a70ca"
      },
      "execution_count": 6,
      "outputs": [
        {
          "output_type": "stream",
          "name": "stdout",
          "text": [
            "[329900 369000 232000 539900 299900 314900 198999 212000 242500 239999\n",
            " 347000 329999 699900 259900 449900 299900 199900 499998 599000 252900\n",
            " 255000 242900 259900 573900 249900 464500 469000 475000 299900 349900\n",
            " 169900 314900 579900 285900 249900 229900 345000 549000 287000 368500\n",
            " 329900 314000 299000 179900 299900 239500]\n"
          ]
        }
      ]
    },
    {
      "cell_type": "code",
      "source": [
        "\n",
        "# step 3: select one fourth of the data for testing and two thirds for training\n",
        "input_train, input_test, output_train, output_test = train_test_split(inputx, outputy, test_size = 1/4, random_state = 0)\n",
        "\n",
        "\n"
      ],
      "metadata": {
        "id": "KWDsyr-7F8Bb"
      },
      "execution_count": 7,
      "outputs": []
    },
    {
      "cell_type": "code",
      "source": [
        "# step 4: selecting the simple Linear Regression model\n",
        "model = LinearRegression()\n",
        "print(\"\\nThe parameters of the model are\\n\\n\",model.get_params())\n",
        "#print(model.set_params())\n",
        "print(\"\\nThe model we are using is \", model.fit(input_train, output_train))\n",
        "\n"
      ],
      "metadata": {
        "colab": {
          "base_uri": "https://localhost:8080/"
        },
        "id": "TuiB3d4RF92S",
        "outputId": "998bf26d-b40d-4910-b7ea-0b17bfc91b8f"
      },
      "execution_count": 8,
      "outputs": [
        {
          "output_type": "stream",
          "name": "stdout",
          "text": [
            "\n",
            "The parameters of the model are\n",
            "\n",
            " {'copy_X': True, 'fit_intercept': True, 'n_jobs': None, 'positive': False}\n",
            "\n",
            "The model we are using is  LinearRegression()\n"
          ]
        }
      ]
    },
    {
      "cell_type": "code",
      "source": [
        "\n",
        "# step 5: testing or model prediction using testinput\n",
        "squarefeet = float(input(\"\\nGive square feet of the house  \"))\n",
        "bedrooms = float(input(\"\\nGive the number of bed rooms in the house  \"))\n",
        "testinput = [[squarefeet,bedrooms]]\n",
        "predicted_output = model.predict(testinput)\n",
        "print('\\nThe test input is as follows ',testinput)\n",
        "print('\\nThe predicted house price is ',predicted_output)\n",
        "yes = input(\"\\nCan I proceed\\n\")\n"
      ],
      "metadata": {
        "colab": {
          "base_uri": "https://localhost:8080/"
        },
        "id": "oLX8E_uhF_oj",
        "outputId": "ebd30323-dda6-47f7-e29d-9ef3c23f3b95"
      },
      "execution_count": 9,
      "outputs": [
        {
          "name": "stdout",
          "output_type": "stream",
          "text": [
            "\n",
            "Give square feet of the house  1000\n",
            "\n",
            "Give the number of bed rooms in the house  2\n",
            "\n",
            "The test input is as follows  [[1000.0, 2.0]]\n",
            "\n",
            "The predicted house price is  [213595.57425024]\n",
            "\n",
            "Can I proceed\n",
            "yes\n"
          ]
        }
      ]
    },
    {
      "cell_type": "code",
      "source": [
        "\n",
        "\n",
        "# step 6: Printing the testing results\n",
        "print(\"\\nThe test input (square feet and the number of bed rooms) is as follows \\n\")\n",
        "print(input_test)\n",
        "# model predicting the Test set results\n",
        "predicted_output = model.predict(input_test)\n",
        "print(\"\\nThe predicted price of the house for the test input is as follows \\n\")\n",
        "print(predicted_output)"
      ],
      "metadata": {
        "colab": {
          "base_uri": "https://localhost:8080/"
        },
        "id": "vBU7MdW3GBV7",
        "outputId": "70f7422c-559c-49dc-c50f-c3ed2d68ba48"
      },
      "execution_count": 11,
      "outputs": [
        {
          "output_type": "stream",
          "name": "stdout",
          "text": [
            "\n",
            "The test input (square feet and the number of bed rooms) is as follows \n",
            "\n",
            "[[1458    3]\n",
            " [1962    4]\n",
            " [2637    3]\n",
            " [1985    4]\n",
            " [2000    3]\n",
            " [2040    4]\n",
            " [1839    2]\n",
            " [1890    3]\n",
            " [1888    2]\n",
            " [3137    3]\n",
            " [1000    1]\n",
            " [2162    4]]\n",
            "\n",
            "The predicted price of the house for the test input is as follows \n",
            "\n",
            "[268203.87932324 329342.1484953  435569.69829698 332607.13054483\n",
            " 345143.89109912 340414.69631545 332696.44118744 329528.75955789\n",
            " 339652.27251036 506547.56893893 224002.99868527 357733.29675208]\n"
          ]
        }
      ]
    }
  ]
}