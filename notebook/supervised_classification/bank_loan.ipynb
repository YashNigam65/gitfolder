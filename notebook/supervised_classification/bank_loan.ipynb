{
 "cells": [
  {
   "cell_type": "code",
   "execution_count": null,
   "id": "04e86517",
   "metadata": {
    "vscode": {
     "languageId": "plaintext"
    }
   },
   "outputs": [],
   "source": [
    "# KNN Classification\n",
    "from pandas import read_csv\n",
    "from sklearn.neighbors import KNeighborsClassifier\n",
    "\n",
    "\n",
    "# step 1: reading the data and splitting it to input and output\n",
    "filename = '../../datasets/bankloan_classification_train.csv'\n",
    "headernames = ['age', 'loanamount', 'status']\n",
    "df = read_csv(filename, names=headernames)\n",
    "array = df.values\n",
    "inputx = array[:,0:2]\n",
    "outputy = array[:,2]\n",
    "\n",
    "\n",
    "# step 2: selecting the KNN model \n",
    "thismodel = KNeighborsClassifier(n_neighbors=3)\n",
    "print(\"\\nThe model selected is\",thismodel)\n",
    "print(\"\\nThe parameters of the model are\\n\\n\",thismodel.get_params())\n",
    "#print(thismodel.set_params())\n",
    "\n",
    "\n",
    "# step 3: training the model\n",
    "thismodel.fit(inputx,outputy)\n",
    "\n",
    "\n",
    "# step 4: testing and model prediction\n",
    "filename = '../../datasets/bankloan_classification_test.csv'\n",
    "names = ['age', 'loanamount']\n",
    "newdataframe = read_csv(filename, names=names)\n",
    "array = newdataframe.values\n",
    "testinputz = array[0:4,0:2]\n",
    "print(\"\\n\\nThe test inputs are\\n\\n\",newdataframe)\n",
    "res=thismodel.predict(testinputz)\n",
    "\n",
    "\n",
    "# step 5: visualizing the test results\n",
    "reslist=[]\n",
    "for val in res:\n",
    "    if val==0:\n",
    "        reslist.append(\"WillNotPay\")\n",
    "    else:\n",
    "        reslist.append(\"WillPay\")\n",
    "print(\"\\nThe test results are\\n\\n\",reslist)\n",
    "#res=thismodel.predict(testinputz)\n",
    "#print(thismodel.predict(testinputz))"
   ]
  }
 ],
 "metadata": {
  "language_info": {
   "name": "python"
  }
 },
 "nbformat": 4,
 "nbformat_minor": 5
}
